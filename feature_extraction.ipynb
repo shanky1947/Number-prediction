{
 "cells": [
  {
   "cell_type": "markdown",
   "metadata": {
    "collapsed": true
   },
   "source": [
    "# feature extraction"
   ]
  },
  {
   "cell_type": "code",
   "execution_count": 30,
   "metadata": {
    "collapsed": true
   },
   "outputs": [],
   "source": [
    "import cv2"
   ]
  },
  {
   "cell_type": "code",
   "execution_count": 31,
   "metadata": {},
   "outputs": [],
   "source": [
    "import os\n",
    "from tqdm import tqdm #to show process bar"
   ]
  },
  {
   "cell_type": "code",
   "execution_count": 48,
   "metadata": {
    "collapsed": true
   },
   "outputs": [],
   "source": [
    "train='C://Users/shash/Desktop/train'\n",
    "predict='C://Users/shash/Desktop/test1'"
   ]
  },
  {
   "cell_type": "code",
   "execution_count": 33,
   "metadata": {},
   "outputs": [
    {
     "data": {
      "text/plain": [
       "'cat'"
      ]
     },
     "execution_count": 33,
     "metadata": {},
     "output_type": "execute_result"
    }
   ],
   "source": [
    "n='cat.1.jpg'\n",
    "n.split('.')[0]"
   ]
  },
  {
   "cell_type": "code",
   "execution_count": 34,
   "metadata": {
    "collapsed": true
   },
   "outputs": [],
   "source": [
    "def label_img(img):\n",
    "    label=img.split('.')\n",
    "    if label[0]=='cat':\n",
    "        return 0\n",
    "    elif label[0]=='dog':\n",
    "        return 1"
   ]
  },
  {
   "cell_type": "code",
   "execution_count": 35,
   "metadata": {},
   "outputs": [
    {
     "name": "stdout",
     "output_type": "stream",
     "text": [
      "None\n",
      "None\n",
      "None\n",
      "None\n",
      "None\n",
      "None\n",
      "None\n",
      "None\n",
      "None\n"
     ]
    }
   ],
   "source": [
    "for i in n:\n",
    "    r=label_img(i)\n",
    "    print(r)"
   ]
  },
  {
   "cell_type": "code",
   "execution_count": 36,
   "metadata": {},
   "outputs": [],
   "source": [
    "from random import shuffle\n",
    "train_data=[]\n",
    "def feature_data():\n",
    "    for i in tqdm(os.listdir(train)):\n",
    "        label=label_img(i)\n",
    "        path=os.path.join(train,i) #train/cat.01.jpg etc.\n",
    "        feature=cv2.imread(path,0) #extract features or pixels(mathematical value of image)\n",
    "        feature=cv2.resize(feature,(50,50)) #converting all images to same size\n",
    "        train_data.append([[feature],[label]]) \n",
    "    shuffle(train_data)\n",
    "    return train_data"
   ]
  },
  {
   "cell_type": "code",
   "execution_count": 37,
   "metadata": {},
   "outputs": [
    {
     "name": "stderr",
     "output_type": "stream",
     "text": [
      "100%|████████████████████████████████████████████████████████████████████████████| 25000/25000 [06:13<00:00, 66.87it/s]\n"
     ]
    }
   ],
   "source": [
    "training=feature_data()"
   ]
  },
  {
   "cell_type": "code",
   "execution_count": 49,
   "metadata": {
    "collapsed": true
   },
   "outputs": [],
   "source": [
    "from random import shuffle\n",
    "test_data=[]\n",
    "def testing_data():\n",
    "    for i in tqdm(os.listdir(predict)):\n",
    "        label=label_img(i)\n",
    "        path=os.path.join(predict,i) #train/cat.01.jpg etc.\n",
    "        feature=cv2.imread(path,0) #extract features or pixels\n",
    "        feature=cv2.resize(feature,(50,50)) #converting all images to same size\n",
    "        test_data.append([[feature],[label]]) \n",
    "    shuffle(test_data)\n",
    "    return test_data"
   ]
  },
  {
   "cell_type": "code",
   "execution_count": 50,
   "metadata": {},
   "outputs": [
    {
     "name": "stderr",
     "output_type": "stream",
     "text": [
      "100%|████████████████████████████████████████████████████████████████████████████| 12500/12500 [04:38<00:00, 44.92it/s]\n"
     ]
    }
   ],
   "source": [
    "testing=testing_data()"
   ]
  },
  {
   "cell_type": "code",
   "execution_count": 51,
   "metadata": {},
   "outputs": [
    {
     "data": {
      "text/plain": [
       "(25000, 2)"
      ]
     },
     "execution_count": 51,
     "metadata": {},
     "output_type": "execute_result"
    }
   ],
   "source": [
    "import numpy as np\n",
    "training=np.array(training).reshape(25000,2)\n",
    "training.shape"
   ]
  },
  {
   "cell_type": "code",
   "execution_count": 52,
   "metadata": {},
   "outputs": [
    {
     "data": {
      "text/plain": [
       "array([[array([[105,  96, 123, ...,  90, 106, 131],\n",
       "       [115, 117,  81, ..., 119, 114, 131],\n",
       "       [129, 140,  92, ..., 119, 122, 130],\n",
       "       ...,\n",
       "       [163, 123, 123, ..., 193, 194, 196],\n",
       "       [146, 163, 145, ..., 191, 193, 193],\n",
       "       [124, 170, 143, ..., 210, 192, 191]], dtype=uint8),\n",
       "        0],\n",
       "       [array([[ 15,  36,  42, ..., 135,  55,  58],\n",
       "       [ 24,  23,  37, ...,  73,  59,  58],\n",
       "       [ 26,  29,  34, ..., 138, 115, 106],\n",
       "       ...,\n",
       "       [195, 192, 209, ..., 129,  83, 150],\n",
       "       [188, 207, 209, ..., 139,  76, 170],\n",
       "       [191, 205, 187, ..., 175, 173, 178]], dtype=uint8),\n",
       "        1],\n",
       "       [array([[103, 105, 115, ...,  80, 110,  97],\n",
       "       [102, 101, 102, ...,  90,  82, 107],\n",
       "       [ 60,  59,  63, ...,  86,  77,  78],\n",
       "       ...,\n",
       "       [178, 168, 167, ..., 182, 181, 177],\n",
       "       [176, 171, 173, ..., 186, 183, 181],\n",
       "       [176, 172, 171, ..., 153, 146, 135]], dtype=uint8),\n",
       "        1],\n",
       "       ...,\n",
       "       [array([[142, 141, 143, ..., 117, 114, 116],\n",
       "       [142, 141, 141, ..., 114, 114, 116],\n",
       "       [143, 141, 141, ..., 117, 114, 116],\n",
       "       ...,\n",
       "       [193, 203, 209, ..., 190, 185, 179],\n",
       "       [207, 196, 199, ..., 190, 182, 183],\n",
       "       [181, 205, 197, ..., 184, 181, 161]], dtype=uint8),\n",
       "        0],\n",
       "       [array([[ 43,  57,  42, ..., 220, 220, 144],\n",
       "       [ 56,  46,  53, ..., 224, 227, 135],\n",
       "       [ 51,  47,  46, ..., 214, 223, 144],\n",
       "       ...,\n",
       "       [213, 202, 230, ..., 110, 114,  57],\n",
       "       [195, 229, 242, ..., 100,  90,  50],\n",
       "       [235, 234, 234, ...,  85,  84,  72]], dtype=uint8),\n",
       "        0],\n",
       "       [array([[254, 254, 254, ..., 178, 172, 176],\n",
       "       [254, 254, 254, ..., 181, 176, 181],\n",
       "       [254, 254, 254, ..., 182, 182, 176],\n",
       "       ...,\n",
       "       [155, 154, 152, ...,  97,  77,  53],\n",
       "       [164, 161, 160, ..., 119, 122, 126],\n",
       "       [160, 168, 163, ...,  40,  37,  32]], dtype=uint8),\n",
       "        0]], dtype=object)"
      ]
     },
     "execution_count": 52,
     "metadata": {},
     "output_type": "execute_result"
    }
   ],
   "source": [
    "training"
   ]
  },
  {
   "cell_type": "code",
   "execution_count": 55,
   "metadata": {
    "collapsed": true
   },
   "outputs": [],
   "source": [
    "z=np.array([[[2,3,4,5],[1]],[[3,6,2,5],[0]],[[3,6,2,5],[0]]]) #example"
   ]
  },
  {
   "cell_type": "code",
   "execution_count": 56,
   "metadata": {},
   "outputs": [
    {
     "data": {
      "text/plain": [
       "(3, 2)"
      ]
     },
     "execution_count": 56,
     "metadata": {},
     "output_type": "execute_result"
    }
   ],
   "source": [
    "z.shape #example"
   ]
  },
  {
   "cell_type": "code",
   "execution_count": 2,
   "metadata": {},
   "outputs": [
    {
     "data": {
      "text/plain": [
       "array([[ 1.,  1.,  1.,  1.,  1.],\n",
       "       [ 1.,  1.,  1.,  1.,  1.],\n",
       "       [ 1.,  1.,  1.,  1.,  1.]])"
      ]
     },
     "execution_count": 2,
     "metadata": {},
     "output_type": "execute_result"
    }
   ],
   "source": [
    "import numpy as np\n",
    "n=np.ones([3,5]) #created zero array so that we can replace with real value\n",
    "n"
   ]
  },
  {
   "cell_type": "code",
   "execution_count": 3,
   "metadata": {},
   "outputs": [
    {
     "ename": "NameError",
     "evalue": "name 'z' is not defined",
     "output_type": "error",
     "traceback": [
      "\u001b[0;31m---------------------------------------------------------------------------\u001b[0m",
      "\u001b[0;31mNameError\u001b[0m                                 Traceback (most recent call last)",
      "\u001b[0;32m<ipython-input-3-25fcb085c9c7>\u001b[0m in \u001b[0;36m<module>\u001b[0;34m()\u001b[0m\n\u001b[0;32m----> 1\u001b[0;31m \u001b[0mz\u001b[0m\u001b[1;33m[\u001b[0m\u001b[1;36m0\u001b[0m\u001b[1;33m]\u001b[0m\u001b[1;33m[\u001b[0m\u001b[1;36m0\u001b[0m\u001b[1;33m]\u001b[0m\u001b[1;33m\u001b[0m\u001b[0m\n\u001b[0m",
      "\u001b[0;31mNameError\u001b[0m: name 'z' is not defined"
     ]
    }
   ],
   "source": [
    "z[0][0]"
   ]
  },
  {
   "cell_type": "code",
   "execution_count": 65,
   "metadata": {
    "collapsed": true
   },
   "outputs": [],
   "source": [
    "for i in range(3):\n",
    "    n[i]=np.hstack((z[i][0],z[i][1]))     #same as axis=1  "
   ]
  },
  {
   "cell_type": "code",
   "execution_count": 66,
   "metadata": {},
   "outputs": [
    {
     "data": {
      "text/plain": [
       "array([[2., 3., 4., 5., 1.],\n",
       "       [3., 6., 2., 5., 0.],\n",
       "       [3., 6., 2., 5., 0.]])"
      ]
     },
     "execution_count": 66,
     "metadata": {},
     "output_type": "execute_result"
    }
   ],
   "source": [
    "n"
   ]
  },
  {
   "cell_type": "code",
   "execution_count": null,
   "metadata": {
    "collapsed": true
   },
   "outputs": [],
   "source": [
    "y=n[]"
   ]
  },
  {
   "cell_type": "code",
   "execution_count": null,
   "metadata": {
    "collapsed": true
   },
   "outputs": [],
   "source": []
  },
  {
   "cell_type": "code",
   "execution_count": 71,
   "metadata": {},
   "outputs": [],
   "source": [
    "import numpy as np\n",
    "z=np.zeros([25000,2501])"
   ]
  },
  {
   "cell_type": "code",
   "execution_count": 72,
   "metadata": {
    "collapsed": true
   },
   "outputs": [],
   "source": [
    "c=np.arange(20).reshape(4,5) #example"
   ]
  },
  {
   "cell_type": "code",
   "execution_count": 73,
   "metadata": {},
   "outputs": [
    {
     "data": {
      "text/plain": [
       "array([ 0,  1,  2,  3,  4,  5,  6,  7,  8,  9, 10, 11, 12, 13, 14, 15, 16,\n",
       "       17, 18, 19])"
      ]
     },
     "execution_count": 73,
     "metadata": {},
     "output_type": "execute_result"
    }
   ],
   "source": [
    "c.ravel() #to convert to single line #example"
   ]
  },
  {
   "cell_type": "code",
   "execution_count": 74,
   "metadata": {
    "collapsed": true
   },
   "outputs": [],
   "source": [
    "for i in range(25000):\n",
    "    z[i]=np.hstack((training[i][0].ravel(),training[i][1]))"
   ]
  },
  {
   "cell_type": "code",
   "execution_count": 75,
   "metadata": {
    "collapsed": true
   },
   "outputs": [],
   "source": [
    "z\n",
    "x=z[:,:-1]\n",
    "y=z[:,-1:]"
   ]
  },
  {
   "cell_type": "code",
   "execution_count": 76,
   "metadata": {},
   "outputs": [
    {
     "data": {
      "text/plain": [
       "(25000, 2500)"
      ]
     },
     "execution_count": 76,
     "metadata": {},
     "output_type": "execute_result"
    }
   ],
   "source": [
    "x.shape"
   ]
  },
  {
   "cell_type": "code",
   "execution_count": null,
   "metadata": {
    "collapsed": true
   },
   "outputs": [],
   "source": [
    "from sklearn.model_selection import train_test_split"
   ]
  },
  {
   "cell_type": "code",
   "execution_count": null,
   "metadata": {
    "collapsed": true
   },
   "outputs": [],
   "source": [
    "xtrain,xtest,ytrain,ytest=train_test_split(x,y)"
   ]
  },
  {
   "cell_type": "code",
   "execution_count": null,
   "metadata": {
    "collapsed": true
   },
   "outputs": [],
   "source": [
    "from sklearn.neighbors import KNeighborsClassifier"
   ]
  },
  {
   "cell_type": "code",
   "execution_count": null,
   "metadata": {
    "collapsed": true
   },
   "outputs": [],
   "source": [
    "knn=KNeighborsclassifier(n_neighbors=5)"
   ]
  },
  {
   "cell_type": "code",
   "execution_count": null,
   "metadata": {
    "collapsed": true
   },
   "outputs": [],
   "source": [
    "knn.fit(xtrain,ytrain)"
   ]
  },
  {
   "cell_type": "code",
   "execution_count": null,
   "metadata": {
    "collapsed": true
   },
   "outputs": [],
   "source": [
    "ypred=knn.predict(xtest)"
   ]
  }
 ],
 "metadata": {
  "kernelspec": {
   "display_name": "Python 3",
   "language": "python",
   "name": "python3"
  },
  "language_info": {
   "codemirror_mode": {
    "name": "ipython",
    "version": 3
   },
   "file_extension": ".py",
   "mimetype": "text/x-python",
   "name": "python",
   "nbconvert_exporter": "python",
   "pygments_lexer": "ipython3",
   "version": "3.7.3"
  }
 },
 "nbformat": 4,
 "nbformat_minor": 2
}
